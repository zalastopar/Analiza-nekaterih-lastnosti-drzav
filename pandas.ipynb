{
 "cells": [
  {
   "cell_type": "markdown",
   "metadata": {},
   "source": [
    "# Analiza Visitorjev"
   ]
  },
  {
   "cell_type": "code",
   "execution_count": 1,
   "metadata": {},
   "outputs": [],
   "source": [
    "import pandas as pd\n",
    "import os.path\n",
    "import numpy as np\n",
    "import math\n",
    "import matplotlib.pyplot as plt\n",
    "#heatmap\n",
    "import seaborn as sns\n",
    "#interaktivne stvari\n",
    "import ipywidgets as widgets\n",
    "#logaritemski scale\n",
    "from matplotlib.colors import Normalize\n",
    "from matplotlib.ticker import MaxNLocator\n",
    "from matplotlib.colors import LogNorm\n",
    "#svoja legenda\n",
    "from matplotlib.patches import Patch\n",
    "from matplotlib.lines import Line2D\n",
    "\n",
    "\n",
    "\n",
    "#%matplotlib notebook\n",
    "%matplotlib inline\n",
    "\n",
    "# naložimo razpredelnico, s katero bomo delali\n",
    "pot_do_Visitorjev = os.path.join(\"immadegen.csv\")\n",
    "visitorji = pd.read_csv(pot_do_Visitorjev)\n",
    "visitorji = visitorji.set_index('Name')"
   ]
  },
  {
   "cell_type": "markdown",
   "metadata": {},
   "source": [
    "## Obdelava podatkov"
   ]
  },
  {
   "cell_type": "code",
   "execution_count": 2,
   "metadata": {},
   "outputs": [
    {
     "data": {
      "text/html": [
       "<div>\n",
       "<style scoped>\n",
       "    .dataframe tbody tr th:only-of-type {\n",
       "        vertical-align: middle;\n",
       "    }\n",
       "\n",
       "    .dataframe tbody tr th {\n",
       "        vertical-align: top;\n",
       "    }\n",
       "\n",
       "    .dataframe thead th {\n",
       "        text-align: right;\n",
       "    }\n",
       "</style>\n",
       "<table border=\"1\" class=\"dataframe\">\n",
       "  <thead>\n",
       "    <tr style=\"text-align: right;\">\n",
       "      <th></th>\n",
       "      <th>Background</th>\n",
       "      <th>Clothing</th>\n",
       "      <th>Expression</th>\n",
       "      <th>Eyes</th>\n",
       "      <th>Eyewear</th>\n",
       "      <th>Head</th>\n",
       "      <th>Mouth</th>\n",
       "      <th>Neck</th>\n",
       "      <th>Nose</th>\n",
       "      <th>Skin</th>\n",
       "      <th>Type</th>\n",
       "      <th>Price</th>\n",
       "    </tr>\n",
       "    <tr>\n",
       "      <th>Name</th>\n",
       "      <th></th>\n",
       "      <th></th>\n",
       "      <th></th>\n",
       "      <th></th>\n",
       "      <th></th>\n",
       "      <th></th>\n",
       "      <th></th>\n",
       "      <th></th>\n",
       "      <th></th>\n",
       "      <th></th>\n",
       "      <th></th>\n",
       "      <th></th>\n",
       "    </tr>\n",
       "  </thead>\n",
       "  <tbody>\n",
       "    <tr>\n",
       "      <th>Visitor1</th>\n",
       "      <td>Pink</td>\n",
       "      <td>NaN</td>\n",
       "      <td>Delusional</td>\n",
       "      <td>Visitor</td>\n",
       "      <td>NaN</td>\n",
       "      <td>Barbarian</td>\n",
       "      <td>Face Mask</td>\n",
       "      <td>Gold Necklace</td>\n",
       "      <td>NaN</td>\n",
       "      <td>Green</td>\n",
       "      <td>Not for sale</td>\n",
       "      <td>NaN</td>\n",
       "    </tr>\n",
       "    <tr>\n",
       "      <th>Visitor2</th>\n",
       "      <td>Pink</td>\n",
       "      <td>Black T-shirt</td>\n",
       "      <td>Surprised</td>\n",
       "      <td>Twirl</td>\n",
       "      <td>Eyepatch</td>\n",
       "      <td>NaN</td>\n",
       "      <td>NaN</td>\n",
       "      <td>NaN</td>\n",
       "      <td>NaN</td>\n",
       "      <td>Blue</td>\n",
       "      <td>Buy</td>\n",
       "      <td>11.000</td>\n",
       "    </tr>\n",
       "    <tr>\n",
       "      <th>Visitor3</th>\n",
       "      <td>Purple</td>\n",
       "      <td>Mariniere</td>\n",
       "      <td>Surprised</td>\n",
       "      <td>Lime</td>\n",
       "      <td>Aviators</td>\n",
       "      <td>Bucket Hat</td>\n",
       "      <td>Face Mask</td>\n",
       "      <td>NaN</td>\n",
       "      <td>NaN</td>\n",
       "      <td>War Paint</td>\n",
       "      <td>Buy</td>\n",
       "      <td>5.000</td>\n",
       "    </tr>\n",
       "    <tr>\n",
       "      <th>Visitor4</th>\n",
       "      <td>Green</td>\n",
       "      <td>NaN</td>\n",
       "      <td>Surprised</td>\n",
       "      <td>Navy</td>\n",
       "      <td>Round Glasses</td>\n",
       "      <td>Bolero</td>\n",
       "      <td>Gagged</td>\n",
       "      <td>NaN</td>\n",
       "      <td>Gold Brow Stud</td>\n",
       "      <td>Blue</td>\n",
       "      <td>Not for sale</td>\n",
       "      <td>NaN</td>\n",
       "    </tr>\n",
       "    <tr>\n",
       "      <th>Visitor5</th>\n",
       "      <td>Red</td>\n",
       "      <td>Hoodie Down</td>\n",
       "      <td>Confident</td>\n",
       "      <td>Stoned</td>\n",
       "      <td>Round Glasses</td>\n",
       "      <td>Barbarian</td>\n",
       "      <td>Pipe</td>\n",
       "      <td>NaN</td>\n",
       "      <td>Silver Brow Stud</td>\n",
       "      <td>Blue</td>\n",
       "      <td>Not for sale</td>\n",
       "      <td>NaN</td>\n",
       "    </tr>\n",
       "    <tr>\n",
       "      <th>...</th>\n",
       "      <td>...</td>\n",
       "      <td>...</td>\n",
       "      <td>...</td>\n",
       "      <td>...</td>\n",
       "      <td>...</td>\n",
       "      <td>...</td>\n",
       "      <td>...</td>\n",
       "      <td>...</td>\n",
       "      <td>...</td>\n",
       "      <td>...</td>\n",
       "      <td>...</td>\n",
       "      <td>...</td>\n",
       "    </tr>\n",
       "    <tr>\n",
       "      <th>Visitor9995</th>\n",
       "      <td>Green</td>\n",
       "      <td>Suit</td>\n",
       "      <td>Surprised</td>\n",
       "      <td>White</td>\n",
       "      <td>Skelly</td>\n",
       "      <td>Do Rag</td>\n",
       "      <td>Fangs</td>\n",
       "      <td>NaN</td>\n",
       "      <td>Clown</td>\n",
       "      <td>Green</td>\n",
       "      <td>Buy</td>\n",
       "      <td>10.000</td>\n",
       "    </tr>\n",
       "    <tr>\n",
       "      <th>Visitor9996</th>\n",
       "      <td>Purple</td>\n",
       "      <td>Hoodie With Jacket</td>\n",
       "      <td>Surprised</td>\n",
       "      <td>Lime</td>\n",
       "      <td>NaN</td>\n",
       "      <td>Top Hat</td>\n",
       "      <td>NaN</td>\n",
       "      <td>NaN</td>\n",
       "      <td>Silver Brow Stud</td>\n",
       "      <td>Cyberpunk</td>\n",
       "      <td>Buy</td>\n",
       "      <td>1.000</td>\n",
       "    </tr>\n",
       "    <tr>\n",
       "      <th>Visitor9997</th>\n",
       "      <td>Purple</td>\n",
       "      <td>Suit</td>\n",
       "      <td>Tired</td>\n",
       "      <td>Navy</td>\n",
       "      <td>Monocle</td>\n",
       "      <td>Floppy Hat</td>\n",
       "      <td>Gagged</td>\n",
       "      <td>NaN</td>\n",
       "      <td>Silver Brow Stud</td>\n",
       "      <td>Trippy</td>\n",
       "      <td>Not for sale</td>\n",
       "      <td>NaN</td>\n",
       "    </tr>\n",
       "    <tr>\n",
       "      <th>Visitor9998</th>\n",
       "      <td>Green</td>\n",
       "      <td>Hoodie Up</td>\n",
       "      <td>Confident</td>\n",
       "      <td>Lime</td>\n",
       "      <td>NaN</td>\n",
       "      <td>NaN</td>\n",
       "      <td>Bandit Mask</td>\n",
       "      <td>NaN</td>\n",
       "      <td>NaN</td>\n",
       "      <td>War Paint</td>\n",
       "      <td>Not for sale</td>\n",
       "      <td>NaN</td>\n",
       "    </tr>\n",
       "    <tr>\n",
       "      <th>Visitor9999</th>\n",
       "      <td>Purple</td>\n",
       "      <td>Bulletproof Vest</td>\n",
       "      <td>Surprised</td>\n",
       "      <td>Navy</td>\n",
       "      <td>Aviators</td>\n",
       "      <td>Headphones</td>\n",
       "      <td>Bubble Gum</td>\n",
       "      <td>Spiked Collar</td>\n",
       "      <td>Silver Lip Ring</td>\n",
       "      <td>Green</td>\n",
       "      <td>Buy</td>\n",
       "      <td>9.999</td>\n",
       "    </tr>\n",
       "  </tbody>\n",
       "</table>\n",
       "<p>9999 rows × 12 columns</p>\n",
       "</div>"
      ],
      "text/plain": [
       "            Background            Clothing  Expression     Eyes  \\\n",
       "Name                                                              \n",
       "Visitor1          Pink                 NaN  Delusional  Visitor   \n",
       "Visitor2          Pink       Black T-shirt   Surprised    Twirl   \n",
       "Visitor3        Purple           Mariniere   Surprised     Lime   \n",
       "Visitor4         Green                 NaN   Surprised     Navy   \n",
       "Visitor5           Red         Hoodie Down   Confident   Stoned   \n",
       "...                ...                 ...         ...      ...   \n",
       "Visitor9995      Green                Suit   Surprised    White   \n",
       "Visitor9996     Purple  Hoodie With Jacket   Surprised     Lime   \n",
       "Visitor9997     Purple                Suit       Tired     Navy   \n",
       "Visitor9998      Green           Hoodie Up   Confident     Lime   \n",
       "Visitor9999     Purple    Bulletproof Vest   Surprised     Navy   \n",
       "\n",
       "                   Eyewear        Head        Mouth           Neck  \\\n",
       "Name                                                                 \n",
       "Visitor1               NaN   Barbarian    Face Mask  Gold Necklace   \n",
       "Visitor2          Eyepatch         NaN          NaN            NaN   \n",
       "Visitor3          Aviators  Bucket Hat    Face Mask            NaN   \n",
       "Visitor4     Round Glasses      Bolero       Gagged            NaN   \n",
       "Visitor5     Round Glasses   Barbarian         Pipe            NaN   \n",
       "...                    ...         ...          ...            ...   \n",
       "Visitor9995         Skelly      Do Rag        Fangs            NaN   \n",
       "Visitor9996            NaN     Top Hat          NaN            NaN   \n",
       "Visitor9997        Monocle  Floppy Hat       Gagged            NaN   \n",
       "Visitor9998            NaN         NaN  Bandit Mask            NaN   \n",
       "Visitor9999       Aviators  Headphones   Bubble Gum  Spiked Collar   \n",
       "\n",
       "                         Nose       Skin          Type   Price  \n",
       "Name                                                            \n",
       "Visitor1                  NaN      Green  Not for sale     NaN  \n",
       "Visitor2                  NaN       Blue           Buy  11.000  \n",
       "Visitor3                  NaN  War Paint           Buy   5.000  \n",
       "Visitor4       Gold Brow Stud       Blue  Not for sale     NaN  \n",
       "Visitor5     Silver Brow Stud       Blue  Not for sale     NaN  \n",
       "...                       ...        ...           ...     ...  \n",
       "Visitor9995             Clown      Green           Buy  10.000  \n",
       "Visitor9996  Silver Brow Stud  Cyberpunk           Buy   1.000  \n",
       "Visitor9997  Silver Brow Stud     Trippy  Not for sale     NaN  \n",
       "Visitor9998               NaN  War Paint  Not for sale     NaN  \n",
       "Visitor9999   Silver Lip Ring      Green           Buy   9.999  \n",
       "\n",
       "[9999 rows x 12 columns]"
      ]
     },
     "execution_count": 2,
     "metadata": {},
     "output_type": "execute_result"
    }
   ],
   "source": [
    "visitorji"
   ]
  },
  {
   "cell_type": "markdown",
   "metadata": {},
   "source": [
    "## Analiza"
   ]
  },
  {
   "cell_type": "markdown",
   "metadata": {},
   "source": [
    "Ugotvljanje pogostosti lastnosti"
   ]
  },
  {
   "cell_type": "code",
   "execution_count": 3,
   "metadata": {},
   "outputs": [],
   "source": [
    "lastnosti = visitorji.columns[0:11]"
   ]
  },
  {
   "cell_type": "code",
   "execution_count": 4,
   "metadata": {},
   "outputs": [],
   "source": [
    "def redkost(Lastnost):\n",
    "    return pd.DataFrame(round(visitorji[Lastnost].value_counts()/9999*100, 2))"
   ]
  },
  {
   "cell_type": "code",
   "execution_count": 5,
   "metadata": {},
   "outputs": [
    {
     "data": {
      "application/vnd.jupyter.widget-view+json": {
       "model_id": "bfa4631309e3419bbcddc6882ad97c6c",
       "version_major": 2,
       "version_minor": 0
      },
      "text/plain": [
       "interactive(children=(Dropdown(description='Lastnost', options=('Background', 'Clothing', 'Expression', 'Eyes'…"
      ]
     },
     "metadata": {},
     "output_type": "display_data"
    },
    {
     "data": {
      "text/plain": [
       "<function __main__.redkost(Lastnost)>"
      ]
     },
     "execution_count": 5,
     "metadata": {},
     "output_type": "execute_result"
    }
   ],
   "source": [
    "widgets.interact(redkost, Lastnost=lastnosti[0:10])"
   ]
  },
  {
   "cell_type": "markdown",
   "metadata": {},
   "source": [
    "Na spodnjem grafu lahko vidimo, da večina Visitorjev ni na prodaj. Pri naši analizi pa bomo v glavnem uporabljali presotali delež."
   ]
  },
  {
   "cell_type": "code",
   "execution_count": 6,
   "metadata": {},
   "outputs": [
    {
     "data": {
      "image/png": "[encoded data removed]",
      "text/plain": [
       "<Figure size 216x216 with 1 Axes>"
      ]
     },
     "metadata": {},
     "output_type": "display_data"
    }
   ],
   "source": [
    "Type = round(visitorji['Type'].value_counts()/9999*100, 2)\n",
    "prikaz_tipa = Type[Type>1]\n",
    "prikaz_tipa['Rest'] = Type[Type <= 1].sum()\n",
    "\n",
    "fig, ax = plt.subplots(figsize = (3, 3))\n",
    "ax.set_title('Delež NFTjev v posameni kategoriji')\n",
    "prikaz_tipa.plot.pie(autopct = \"%.2f%%\", colors = ['aqua', 'fuchsia', 'lime'])\n",
    "ax.set_ylabel(None)\n",
    "plt.show()"
   ]
  },
  {
   "cell_type": "markdown",
   "metadata": {},
   "source": [
    "##### Ugotavljanje pomembnosti posamezne lastnosti"
   ]
  },
  {
   "cell_type": "code",
   "execution_count": 7,
   "metadata": {},
   "outputs": [],
   "source": [
    "buy = visitorji.loc[visitorji['Type'] == 'Buy']\n",
    "top_bid = visitorji.loc[visitorji['Type'] == 'Top bid']\n",
    "min_bid = visitorji.loc[visitorji['Type'] == 'Min bid']"
   ]
  },
  {
   "cell_type": "code",
   "execution_count": 8,
   "metadata": {},
   "outputs": [],
   "source": [
    "def pomembna_lastnost(Lastnost):\n",
    "    buy_min = buy['Price'].min()\n",
    "    top_bid_min = top_bid['Price'].min()\n",
    "    min_bid_min = min_bid['Price'].min()\n",
    "    \n",
    "    df1 = buy.loc[visitorji['Price'] < 5*buy_min][['Price', Lastnost]]\n",
    "    df2 = top_bid.loc[visitorji['Price'] < 10*top_bid_min][['Price', Lastnost]]\n",
    "    df3 = min_bid.loc[visitorji['Price'] < 10*min_bid_min][['Price', Lastnost]]\n",
    "    \n",
    "    df1 = df1.where(pd.notnull(df1), 'Without')\n",
    "    df2 = df2.where(pd.notnull(df2), 'Without')\n",
    "    df3 = df3.where(pd.notnull(df3), 'Without')\n",
    "\n",
    "    fig, (ax1, ax2, ax3) = plt.subplots(1,3, figsize=(13,4)) \n",
    "    df1.plot.scatter('Price', Lastnost, alpha = 0.3, color = 'aqua', ax=ax1, label = 'Buy')\n",
    "    df2.plot.scatter('Price', Lastnost, alpha = 0.3, color = 'lime', ax=ax2, label = 'Top bid')\n",
    "    df3.plot.scatter('Price', Lastnost, alpha = 0.3, color = 'fuchsia', ax=ax3, label = 'Min bid')\n",
    "    plt.tight_layout()\n",
    "\n"
   ]
  },
  {
   "cell_type": "code",
   "execution_count": 9,
   "metadata": {},
   "outputs": [
    {
     "data": {
      "application/vnd.jupyter.widget-view+json": {
       "model_id": "933075d390be433fa594122107a78d7b",
       "version_major": 2,
       "version_minor": 0
      },
      "text/plain": [
       "interactive(children=(Dropdown(description='Lastnost', options=('Background', 'Clothing', 'Expression', 'Eyes'…"
      ]
     },
     "metadata": {},
     "output_type": "display_data"
    },
    {
     "data": {
      "text/plain": [
       "<function __main__.pomembna_lastnost(Lastnost)>"
      ]
     },
     "execution_count": 9,
     "metadata": {},
     "output_type": "execute_result"
    }
   ],
   "source": [
    "widgets.interact(pomembna_lastnost, Lastnost=lastnosti[0:10])"
   ]
  },
  {
   "cell_type": "markdown",
   "metadata": {},
   "source": [
    "Z opazovanjem zgornjih grafov opazimo zanimiv pojav in sicer, da lastnosti, ki doprinesejo več k ceni karticam, ki so napordaj, ne sovpadajo vedno s tistimi, ki doprinesejo k ceni karticam, ki so na dražbi. "
   ]
  },
  {
   "cell_type": "markdown",
   "metadata": {},
   "source": [
    "##### Primerjava parov lastnosti"
   ]
  },
  {
   "cell_type": "code",
   "execution_count": 10,
   "metadata": {},
   "outputs": [],
   "source": [
    "def primerjava_parov(x, y):\n",
    "    # naredimo tabelo primerno za heatmap\n",
    "    a = visitorji[x].dropna().unique()\n",
    "    b = visitorji[y].dropna().unique()\n",
    "\n",
    "    df_cena = pd.DataFrame(a, columns = [x])\n",
    "    df_kolicina = pd.DataFrame(a, columns = [x])\n",
    "    #poiscimo najnizjo ceno in stevilo ujemanj\n",
    "\n",
    "    for us in b: \n",
    "        stolpec_cena = []\n",
    "        stolpec_kolicina = []\n",
    "        for ko in a:\n",
    "            stolpec_kolicina.append(len(buy.loc[(buy[x] == ko) & (buy[y] == us)].index))\n",
    "            stolpec_cena.append(buy.loc[(buy[x] == ko) & (buy[y] == us)]['Price'].min())\n",
    "        df_kolicina.insert(1, us, stolpec_kolicina, True)\n",
    "        df_cena.insert(1, us, stolpec_cena, True)\n",
    "\n",
    "    df_kolicina = df_kolicina.set_index(x)\n",
    "    df_cena = df_cena.set_index(x)\n",
    "\n",
    "\n",
    "    fig, (ax1, ax2) = plt.subplots(1,2, figsize=(12,4)) \n",
    "    # narisemo prvi graf\n",
    "    \n",
    "    # poiscemo meje\n",
    "    ma1 = df_cena.max().max()\n",
    "    mi1 = df_cena.min().min()\n",
    "    \n",
    "    ax = sns.heatmap(df_cena, cmap = 'cool', ax = ax1, norm = LogNorm(mi1,  ma1)) \n",
    "    ax.tick_params(axis = 'both', which = 'both', length = 0)\n",
    "    ax.set_title('Cena posameznih kombinacij')\n",
    "    \n",
    "\n",
    "    # narisemo drugi graf\n",
    "    ax = sns.heatmap(df_kolicina, cmap = 'cool', ax = ax2)\n",
    "    ax.tick_params(axis = 'both', which = 'both', length = 0)\n",
    "    ax.set_title('Število NFTjev s posamezno kombinacijo lastnosti')\n",
    "\n",
    "    # nastavitve za legendo\n",
    "    # poiscemo meje\n",
    "    m2 = df_kolicina.max().max()\n",
    "    n2 = math.ceil(m2/4)\n",
    "\n",
    "    cbar = ax.collections[0].colorbar\n",
    "    cbar.ax.tick_params(labelsize = 9, axis = 'both', which = 'both', length = 0)\n",
    "    cbar.set_ticks(np.linspace(0, m2, 10))\n",
    "\n",
    "    plt.tight_layout()\n"
   ]
  },
  {
   "cell_type": "code",
   "execution_count": 11,
   "metadata": {
    "scrolled": true
   },
   "outputs": [
    {
     "data": {
      "application/vnd.jupyter.widget-view+json": {
       "model_id": "470a9dbfa7de44e4ad9476b063d7e3d2",
       "version_major": 2,
       "version_minor": 0
      },
      "text/plain": [
       "interactive(children=(Select(description='x', options=('Background', 'Clothing', 'Expression', 'Eyes', 'Eyewea…"
      ]
     },
     "metadata": {},
     "output_type": "display_data"
    },
    {
     "data": {
      "text/plain": [
       "<function __main__.primerjava_parov(x, y)>"
      ]
     },
     "execution_count": 11,
     "metadata": {},
     "output_type": "execute_result"
    }
   ],
   "source": [
    "x_select =  widgets.Select(options = lastnosti[0:10])\n",
    "y_select =  widgets.Select(options = lastnosti[0:10])\n",
    "widgets.interact(primerjava_parov,y = y_select, x = x_select)"
   ]
  },
  {
   "cell_type": "markdown",
   "metadata": {},
   "source": [
    "Z opazovanjem zgornjih grafov lahko potrdimo našo hipotezo, da sta količina NFTjev in cena povezani. \n",
    "Na levem grafu lahko vidimo ceno posameznih kombinacij, na desnem pa količino. Levi in desni sta v večini primerov obratno obarvana, kar potrdi našo domnevno."
   ]
  },
  {
   "cell_type": "markdown",
   "metadata": {},
   "source": [
    "##### Ugotavljanje razmerja med pogostostjo lastnosti in ceno"
   ]
  },
  {
   "cell_type": "markdown",
   "metadata": {},
   "source": [
    "Ali je kakšna lastnost zviša ceno, ker je lepa in ne, ker je redka?"
   ]
  },
  {
   "cell_type": "code",
   "execution_count": 12,
   "metadata": {},
   "outputs": [],
   "source": [
    "# razmerje cena, kolicina\n",
    "def cena(Lastnost):\n",
    "    stevilo = buy.groupby(Lastnost).size()\n",
    "    a = pd.DataFrame(stevilo, columns = ['Count'])\n",
    "    stolpec_cena = []\n",
    "    v = visitorji[Lastnost].dropna().unique()\n",
    "    for value in v:\n",
    "        stolpec_cena.append(buy.loc[(buy[Lastnost] == value)]['Price'].min())\n",
    "        \n",
    "    a.insert(1, 'Price', stolpec_cena, True)\n",
    "    a.insert(2, 'Ratio', round(a['Count']/a['Price'], 2))\n",
    "\n",
    "\n",
    "    posebna = a.sort_values('Count')['Ratio'][0]\n",
    "    values = a['Ratio']   \n",
    "    idx = sorted(v.tolist())\n",
    "    clrs = ['lime' if (x == posebna) else 'aqua' for x in values ]\n",
    "    \n",
    "    fig, ax = plt.subplots(figsize = (12,4))\n",
    "    plt.bar(idx, values, color = clrs, width = 0.4)\n",
    "    plt.xticks(rotation = 45, ha = 'right')\n",
    "    ax.legend([Line2D([0], [0], color = 'lime', lw = 4, label = 'Najredkejša'), \n",
    "               Line2D([0], [0], color = 'aqua', lw = 4, label = 'Ostale')], ['Najredkejsa lastnost', 'Ostale'])\n",
    "    plt.show()\n"
   ]
  },
  {
   "cell_type": "code",
   "execution_count": 13,
   "metadata": {
    "scrolled": true
   },
   "outputs": [
    {
     "data": {
      "application/vnd.jupyter.widget-view+json": {
       "model_id": "8ae700e3616f467e876b6d0cb32acdc6",
       "version_major": 2,
       "version_minor": 0
      },
      "text/plain": [
       "interactive(children=(Dropdown(description='Lastnost', options=('Background', 'Clothing', 'Expression', 'Eyes'…"
      ]
     },
     "metadata": {},
     "output_type": "display_data"
    },
    {
     "data": {
      "text/plain": [
       "<function __main__.cena(Lastnost)>"
      ]
     },
     "execution_count": 13,
     "metadata": {},
     "output_type": "execute_result"
    }
   ],
   "source": [
    "widgets.interact(cena, Lastnost = lastnosti[0:10])"
   ]
  },
  {
   "cell_type": "markdown",
   "metadata": {},
   "source": [
    "Na temu delu analize sem s pomočjo razmerja med pogostostjo in ceno NFTjev ugotavljala ali obstaja lastnost, ki ni tako zelo redka, pa ima vseeno visoko ceno. Na grafih za kategorije **Neck**, **Head**, **Eyes** in **Clothing** lahko opazimo, da stolpec z najnižjim razmerjem ni tisti, ki je najoblj redek. Iz tega sklepam, da imajo lastnost: *Yellow Jersey* (**Cloting**), *White* (**Eyes**), *Viking* (**Head**) in *Spiked Coller* (**Neck**) višjo ceno, kot bi jo imele, če bi upoštevali le pogostost."
   ]
  },
  {
   "cell_type": "markdown",
   "metadata": {},
   "source": [
    "### Ogled NFTjev, ki niso na prodaj"
   ]
  },
  {
   "cell_type": "markdown",
   "metadata": {},
   "source": [
    "V tem delu analize bom poskusila najti kakšno lastnost, ki jo lastniki ne želijo prodati, temveč želijo tak NFT obdržati zase."
   ]
  },
  {
   "cell_type": "code",
   "execution_count": 14,
   "metadata": {},
   "outputs": [],
   "source": [
    "niso_na_prodaj = visitorji.loc[visitorji['Type'] == 'Not for sale']"
   ]
  },
  {
   "cell_type": "code",
   "execution_count": 15,
   "metadata": {},
   "outputs": [],
   "source": [
    "def f(Lastnost):\n",
    "    \n",
    "    # zberemo potrebne podatke\n",
    "    a = niso_na_prodaj.groupby(Lastnost).size()\n",
    "    b = visitorji.groupby(Lastnost).size()\n",
    "    s = pd.DataFrame(a)\n",
    "    s.insert(1, '1', b, True)\n",
    "    \n",
    "    # poiscimo razmerja\n",
    "    razmerja = []\n",
    "    for i in range(len(s.index)):\n",
    "        razmerja.append(round(s.iloc[ i , 0]/s.iloc[ i , 1], 2))\n",
    "    k = pd.DataFrame(razmerja, columns = ['Razmerje'], index = s.index)\n",
    "    \n",
    "    # narisemo graf\n",
    "    s.plot(kind = 'bar', y = [0, '1'], title = 'Številov Visitorjev z določenimi lastnostmi: ' + Lastnost, \n",
    "           color = ['lime', 'fuchsia'])\n",
    "    plt.legend([\"Not for sale\", \"All\"])\n",
    "    \n",
    "\n",
    "    \n",
    "    return k['Razmerje'].sort_values()\n",
    "    "
   ]
  },
  {
   "cell_type": "code",
   "execution_count": 16,
   "metadata": {},
   "outputs": [
    {
     "data": {
      "application/vnd.jupyter.widget-view+json": {
       "model_id": "c24b2b3078a24c9c822738ca4c928fb2",
       "version_major": 2,
       "version_minor": 0
      },
      "text/plain": [
       "interactive(children=(ToggleButtons(description='Lastnost:', options=('Background', 'Clothing', 'Expression', …"
      ]
     },
     "metadata": {},
     "output_type": "display_data"
    },
    {
     "data": {
      "text/plain": [
       "<function __main__.f(Lastnost)>"
      ]
     },
     "execution_count": 16,
     "metadata": {},
     "output_type": "execute_result"
    }
   ],
   "source": [
    "widgets.interact(f, Lastnost = widgets.ToggleButtons(\n",
    "    options=lastnosti[0:10], description='Lastnost:', disabled=False,\n",
    "    tooltips=['Description of slow', 'Description of regular', 'Description of fast']))"
   ]
  },
  {
   "cell_type": "markdown",
   "metadata": {},
   "source": [
    "Na zgornjih grafih lahko vidimo, da so deleži večine lastnosti, ki niso na prodaj med 0,60 in 0,75. Te podatki se ujemajo z dejstvom, da je 30% vseh Visitorjev na trgu, ostalih pa lastniki ne prodajajo. Lahko vidimo, da navzgor ni velikega odstopanja, iz česar sklepam, da ni lastnosti, ki bi jo lastniki Visitorjev raje obdržali zase. \n",
    "V kategorjah **Head** in **Background** pa je opazno odstopanje navzdol. Le 56% NFTjev z ozadjem *Space* in 53% NFTjev z glavo *Alien VR* ni na prodaj. Zanimivo je, da sta to najbolj redki lastnosti v teh dveh kategorijah. Latniki raje prodajajo te dve redkejši lastnosti od ostalih. Razlog zato je verjetno nepredvidljivost trga, kar povzroči, da se raje prodajajo redkejše lastnosti, ki imajo trenutno visoko ceno, lastniki kartic s pogostejšimi lastnostmi pa mogoče čakajo na vsesplošen dvig vrenosti NFTjev te zbirke. "
   ]
  },
  {
   "cell_type": "markdown",
   "metadata": {},
   "source": [
    "## Zaključek"
   ]
  },
  {
   "cell_type": "markdown",
   "metadata": {},
   "source": [
    "Na začetku projekta sem postavila 4 hipoteze, z analizo pa sem jih nekaj ovrgla in nekaj sprejela. Lahko potrdim, da redkejša lastnost Visitorja doprinese več k ceni NFTja. Po drugi strani pa sem tudi ugotovila, da obstaja nekaj latnosti, ki imajo višjo ceno pa niso tako zelo redke. Menim, da je to zato, ker je lahko kakšna lastnost bolj estetsko privlačna od druge. \n",
    "Na koncu analize sem se osredotočila na NFTje, ki niso na prodaj. Ugotovila sem, da ni lastnosti, ki bi jo lastniki raje zadržali zase, je pa nekaj lastnosti, ki jih raje prodajajo - to so tiste, ki so redkejše."
   ]
  },
  {
   "cell_type": "code",
   "execution_count": null,
   "metadata": {},
   "outputs": [],
   "source": []
  }
 ],
 "metadata": {
  "interpreter": {
   "hash": "01b2dcbea64ce6e46005f9d063bb87dc15a6c5dc555c7cbf6689a31e1c930c22"
  },
  "kernelspec": {
   "display_name": "Python 3",
   "language": "python",
   "name": "python3"
  },
  "language_info": {
   "codemirror_mode": {
    "name": "ipython",
    "version": 3
   },
   "file_extension": ".py",
   "mimetype": "text/x-python",
   "name": "python",
   "nbconvert_exporter": "python",
   "pygments_lexer": "ipython3",
   "version": "3.7.3"
  }
 },
 "nbformat": 4,
 "nbformat_minor": 2
}
